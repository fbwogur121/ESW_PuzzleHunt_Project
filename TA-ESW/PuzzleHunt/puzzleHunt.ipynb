{
 "cells": [
  {
   "cell_type": "code",
   "execution_count": 2,
   "id": "eab7f1ff-651b-4342-8b4c-d62177a4ff3b",
   "metadata": {},
   "outputs": [
    {
     "ename": "TypeError",
     "evalue": "ST7789.__init__() missing 2 required positional arguments: 'dc' and 'cs'",
     "output_type": "error",
     "traceback": [
      "\u001b[0;31m---------------------------------------------------------------------------\u001b[0m",
      "\u001b[0;31mTypeError\u001b[0m                                 Traceback (most recent call last)",
      "Cell \u001b[0;32mIn[2], line 12\u001b[0m\n\u001b[1;32m     10\u001b[0m \u001b[38;5;66;03m# SPI 및 디스플레이 초기화\u001b[39;00m\n\u001b[1;32m     11\u001b[0m spi \u001b[38;5;241m=\u001b[39m board\u001b[38;5;241m.\u001b[39mSPI()\n\u001b[0;32m---> 12\u001b[0m tft \u001b[38;5;241m=\u001b[39m \u001b[43mst7789\u001b[49m\u001b[38;5;241;43m.\u001b[39;49m\u001b[43mST7789\u001b[49m\u001b[43m(\u001b[49m\u001b[43mspi\u001b[49m\u001b[43m,\u001b[49m\u001b[43m \u001b[49m\u001b[43mrotation\u001b[49m\u001b[38;5;241;43m=\u001b[39;49m\u001b[38;5;241;43m0\u001b[39;49m\u001b[43m,\u001b[49m\u001b[43m \u001b[49m\u001b[43mwidth\u001b[49m\u001b[38;5;241;43m=\u001b[39;49m\u001b[38;5;241;43m240\u001b[39;49m\u001b[43m,\u001b[49m\u001b[43m \u001b[49m\u001b[43mheight\u001b[49m\u001b[38;5;241;43m=\u001b[39;49m\u001b[38;5;241;43m240\u001b[39;49m\u001b[43m)\u001b[49m\n\u001b[1;32m     14\u001b[0m \u001b[38;5;66;03m# 배경색 설정\u001b[39;00m\n\u001b[1;32m     15\u001b[0m color \u001b[38;5;241m=\u001b[39m \u001b[38;5;241m0x0000FF\u001b[39m  \u001b[38;5;66;03m# 파란색\u001b[39;00m\n",
      "\u001b[0;31mTypeError\u001b[0m: ST7789.__init__() missing 2 required positional arguments: 'dc' and 'cs'"
     ]
    }
   ],
   "source": [
    "import time\n",
    "import random\n",
    "from colorsys import hsv_to_rgb\n",
    "import board\n",
    "from digitalio import DigitalInOut, Direction\n",
    "from PIL import Image, ImageDraw, ImageFont\n",
    "from adafruit_rgb_display import st7789\n",
    "import numpy as np\n",
    "\n",
    "# SPI 및 디스플레이 초기화\n",
    "spi = board.SPI()\n",
    "tft = st7789.ST7789(spi, rotation=0, width=240, height=240)\n",
    "\n",
    "# 배경색 설정\n",
    "color = 0x0000FF  # 파란색\n",
    "fill = displayio.TileGrid(displayio.Bitmap(240, 240, 1), pixel_shader=displayio.ColorConverter())\n",
    "fill[0] = color\n",
    "group = displayio.Group()\n",
    "group.append(fill)\n",
    "\n",
    "# 디스플레이에 내용 표시\n",
    "tft.show(group)\n",
    "time.sleep(5)  # 화면 유지 시간\n"
   ]
  }
 ],
 "metadata": {
  "kernelspec": {
   "display_name": "Python 3 (ipykernel)",
   "language": "python",
   "name": "python3"
  },
  "language_info": {
   "codemirror_mode": {
    "name": "ipython",
    "version": 3
   },
   "file_extension": ".py",
   "mimetype": "text/x-python",
   "name": "python",
   "nbconvert_exporter": "python",
   "pygments_lexer": "ipython3",
   "version": "3.11.2"
  }
 },
 "nbformat": 4,
 "nbformat_minor": 5
}
