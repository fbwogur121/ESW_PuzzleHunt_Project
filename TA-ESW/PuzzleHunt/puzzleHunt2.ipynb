{
 "cells": [
  {
   "cell_type": "code",
   "execution_count": null,
   "id": "cff2c63c-df5d-4c50-b602-a0db3b938708",
   "metadata": {},
   "outputs": [],
   "source": []
  }
 ],
 "metadata": {
  "kernelspec": {
   "display_name": "",
   "name": ""
  },
  "language_info": {
   "name": ""
  }
 },
 "nbformat": 4,
 "nbformat_minor": 5
}
